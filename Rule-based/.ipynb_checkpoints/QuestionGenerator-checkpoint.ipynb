{
 "cells": [
  {
   "cell_type": "code",
   "execution_count": 76,
   "id": "3bb1a1d3",
   "metadata": {},
   "outputs": [],
   "source": [
    "import urduhack\n",
    "\n",
    "urduhack.download()"
   ]
  },
  {
   "cell_type": "code",
   "execution_count": 69,
   "id": "868d7077",
   "metadata": {
    "scrolled": true
   },
   "outputs": [
    {
     "name": "stdout",
     "output_type": "stream",
     "text": [
      "1/1 [==============================] - 0s 236ms/step\n",
      "1/1 [==============================] - 0s 28ms/step\n",
      "1/1 [==============================] - 0s 24ms/step\n"
     ]
    }
   ],
   "source": [
    "nlp = urduhack.Pipeline()\n",
    "text = \"علی سیب کھا رہا ہے\"\n",
    "doc = nlp(text)"
   ]
  },
  {
   "cell_type": "code",
   "execution_count": 72,
   "id": "2c145882",
   "metadata": {},
   "outputs": [
    {
     "name": "stdout",
     "output_type": "stream",
     "text": [
      "علی سیب کھا رہا ہے\n",
      "علی\tPROPN\n",
      "سیب\tPROPN\n",
      "کھا\tVERB\n",
      "رہا\tAUX\n",
      "ہے\tAUX\n",
      "----------\n",
      "علی\tPerson\n",
      "سیب\tOther\n",
      "کھا\tOther\n",
      "رہا\tOther\n",
      "ہے\tOther\n"
     ]
    }
   ],
   "source": [
    "for sentence in doc.sentences:\n",
    "    print(sentence.text)\n",
    "    for word in sentence.words:\n",
    "        print(f\"{word.text}\\t{word.pos}\")\n",
    "    print(\"----------\")\n",
    "    for token in sentence.tokens:\n",
    "        print(f\"{token.text}\\t{token.ner}\")"
   ]
  },
  {
   "cell_type": "code",
   "execution_count": 39,
   "id": "4c4b03cf",
   "metadata": {},
   "outputs": [
    {
     "ename": "SyntaxError",
     "evalue": "invalid syntax (469390782.py, line 1)",
     "output_type": "error",
     "traceback": [
      "\u001b[0;36m  Input \u001b[0;32mIn [39]\u001b[0;36m\u001b[0m\n\u001b[0;31m    علی کھانا بنا رہا ہے۔\u001b[0m\n\u001b[0m        ^\u001b[0m\n\u001b[0;31mSyntaxError\u001b[0m\u001b[0;31m:\u001b[0m invalid syntax\n"
     ]
    }
   ],
   "source": [
    "علی کھانا بنا رہا ہے۔"
   ]
  },
  {
   "cell_type": "code",
   "execution_count": 40,
   "id": "ba440453",
   "metadata": {
    "scrolled": true
   },
   "outputs": [
    {
     "ename": "SyntaxError",
     "evalue": "invalid syntax (1604228909.py, line 1)",
     "output_type": "error",
     "traceback": [
      "\u001b[0;36m  Input \u001b[0;32mIn [40]\u001b[0;36m\u001b[0m\n\u001b[0;31m    Proper noun - PROPN: <Agatha Christie> wrote many books.\u001b[0m\n\u001b[0m           ^\u001b[0m\n\u001b[0;31mSyntaxError\u001b[0m\u001b[0;31m:\u001b[0m invalid syntax\n"
     ]
    }
   ],
   "source": [
    "Proper noun - PROPN: <Agatha Christie> wrote many books.\n",
    "Adposition - ADP: He went <to> the races."
   ]
  },
  {
   "cell_type": "code",
   "execution_count": 79,
   "id": "e761df22",
   "metadata": {},
   "outputs": [
    {
     "name": "stdout",
     "output_type": "stream",
     "text": [
      "کون سیب کھا رہا ہے \n"
     ]
    }
   ],
   "source": [
    "question = \"\"\n",
    "skip = False\n",
    "for sentence in doc.sentences:\n",
    "    for i in range(len(sentence.words)):\n",
    "        if sentence.words[i].pos == \"PROPN\" and sentence.tokens[i].ner == \"Person\":\n",
    "            if(i < len(sentence.words) - 1) and sentence.words[i + 1].pos == \"ADP\":\n",
    "                question += \"کس\" + \" \"\n",
    "            elif(i < len(sentence.words) - 1) and sentence.words[i + 1].pos == \"NOUN\":\n",
    "                question += \"کون\" + \" \"\n",
    "            else:\n",
    "                question += \"کون\" + \" \"\n",
    "                if(i < len(sentence.words) - 1) and sentence.words[i + 1].pos == \"PART\":\n",
    "                    skip = True\n",
    "        else:\n",
    "            question += sentence.words[i].text + \" \"\n",
    "print(question)"
   ]
  },
  {
   "cell_type": "code",
   "execution_count": null,
   "id": "c2770fc8",
   "metadata": {},
   "outputs": [],
   "source": []
  },
  {
   "cell_type": "code",
   "execution_count": null,
   "id": "2b1633ef",
   "metadata": {},
   "outputs": [],
   "source": []
  },
  {
   "cell_type": "code",
   "execution_count": null,
   "id": "9a38dc04",
   "metadata": {},
   "outputs": [],
   "source": []
  }
 ],
 "metadata": {
  "kernelspec": {
   "display_name": "Python 3 (ipykernel)",
   "language": "python",
   "name": "python3"
  },
  "language_info": {
   "codemirror_mode": {
    "name": "ipython",
    "version": 3
   },
   "file_extension": ".py",
   "mimetype": "text/x-python",
   "name": "python",
   "nbconvert_exporter": "python",
   "pygments_lexer": "ipython3",
   "version": "3.9.12"
  }
 },
 "nbformat": 4,
 "nbformat_minor": 5
}
